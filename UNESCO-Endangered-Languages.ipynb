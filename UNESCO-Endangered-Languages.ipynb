{
 "cells": [
  {
   "cell_type": "markdown",
   "metadata": {},
   "source": [
    "# Checkpoint 2: UNESCO Atlas of the World's Languages in Danger\n",
    "<em>Vikram Ramavarapu</em>\n",
    "\n",
    "For this checkpoint, we will investigate The United Nations Educational, Scientific and Cultural Organization's (UNESCO) Atlas of the World's Languages in Danger. This is a dataset containing languages that are severely decreasing in speakers. An example of one of these languages would be the Ainu language of Hokkaido, Japan which only has two reported speakers remaining. The question we intend to answer is which part of the world holds the most of these languages and why?\n",
    "\n",
    "## Hypothesis\n",
    "\n",
    "There a correlation between location and number of endangered languages. Due to colonialism and major cultural shifts, I expect to see more endangered languages in countries in Africa or South/Southeast Asia."
   ]
  },
  {
   "cell_type": "markdown",
   "metadata": {},
   "source": [
    "## Loading the Dataset\n",
    "\n",
    "To avoid confounds, we will only select languages marked <em>Critically Endangered</em>."
   ]
  },
  {
   "cell_type": "code",
   "execution_count": 1,
   "metadata": {},
   "outputs": [
    {
     "name": "stdout",
     "output_type": "stream",
     "text": [
      "*** No CODEPAGE record, no encoding_override: will use 'iso-8859-1'\n",
      "ERROR *** XF[17] unknown format key (2, 0x0002)\n",
      "ERROR *** XF[18] unknown format key (1, 0x0001)\n",
      "        ID Name in English Name in French Name in Spanish  \\\n",
      "1       78         'Ongota         ongota          birale   \n",
      "6     2655           Abaga          abaga           abaga   \n",
      "16     829        Achumawi       achumawi        achumawi   \n",
      "26     144           Ahtna          ahtna            atna   \n",
      "28     511           Aimol          aimol           aimol   \n",
      "...    ...             ...            ...             ...   \n",
      "2706  2180        Zenatiya       zenatiya        zenatiya   \n",
      "2708  2177         Zidgali        zidgali         zidgali   \n",
      "2712    45          Zumaya         zumaya          zumaya   \n",
      "2716  1406          |Xaise         |xaise          |xaise   \n",
      "2723  1401           ÇHoa          Çhoa      |hua-owani   \n",
      "\n",
      "                     Countries Country codes alpha 3 ISO639-3 codes  \\\n",
      "1                     Ethiopia                   ETH            bxe   \n",
      "6             Papua New Guinea                   PNG            abg   \n",
      "16    United States of America                   USA            acv   \n",
      "26    United States of America                   USA            aht   \n",
      "28                       India                   IND            aim   \n",
      "...                        ...                   ...            ...   \n",
      "2706                   Algeria                   DZA            NaN   \n",
      "2708                      Oman                   OMN            NaN   \n",
      "2712                  Cameroon                   CMR            zuy   \n",
      "2716                  Botswana                   BWA            shg   \n",
      "2723                  Botswana                   BWA            huc   \n",
      "\n",
      "     Degree of endangerment  \n",
      "1     Critically endangered  \n",
      "6     Critically endangered  \n",
      "16    Critically endangered  \n",
      "26    Critically endangered  \n",
      "28    Critically endangered  \n",
      "...                     ...  \n",
      "2706  Critically endangered  \n",
      "2708  Critically endangered  \n",
      "2712  Critically endangered  \n",
      "2716  Critically endangered  \n",
      "2723  Critically endangered  \n",
      "\n",
      "[608 rows x 8 columns]\n"
     ]
    }
   ],
   "source": [
    "import pandas as pd\n",
    "import cartopy.crs as ccrs\n",
    "import cartopy.io.shapereader as shpreader\n",
    "\n",
    "data = pd.read_excel('sources/unesco_atlas_languages_limited_dataset.xls')\n",
    "data = data.loc[data['Degree of endangerment'] == 'Critically endangered']\n",
    "print(data)"
   ]
  },
  {
   "cell_type": "markdown",
   "metadata": {},
   "source": [
    "## Formatting the Data\n",
    "\n",
    "Now we want to get a country heatmap of the number of endangered languages worldwide. First we must count and group by languages."
   ]
  },
  {
   "cell_type": "code",
   "execution_count": 2,
   "metadata": {},
   "outputs": [
    {
     "name": "stdout",
     "output_type": "stream",
     "text": [
      "Country codes alpha 3\n",
      "AFG     2\n",
      "ARG     2\n",
      "AUS    42\n",
      "BEN     1\n",
      "BGR     1\n",
      "       ..\n",
      "VUT    22\n",
      "ZAF     3\n",
      "ZAI     2\n",
      "IRQ     1\n",
      "NOR     1\n",
      "Length: 81, dtype: int64\n"
     ]
    }
   ],
   "source": [
    "data = data.groupby(['Country codes alpha 3']).size()\n",
    "\n",
    "''' \n",
    "Some entries in the xls will have languages that belong to multiple countries.\n",
    "This means that the country code field will be formatted as such: ABC, XYZ\n",
    "\n",
    "We must fix this by just splitting it into each country code so that a heatmap can be generated.\n",
    "'''\n",
    "\n",
    "for key in list(data.index):\n",
    "    if ',' in key:\n",
    "        # Split the key, and add to each country\n",
    "\n",
    "        curr = key.split(', ')\n",
    "        for country in curr:\n",
    "            if country not in data.index:\n",
    "                data[country] = data[key]\n",
    "            else:\n",
    "                data[country] += data[key]\n",
    "\n",
    "# Drop each entry with comma separated countries\n",
    "drops = []\n",
    "for key in list(data.index):\n",
    "    if ',' in key:\n",
    "        drops.append(key)\n",
    "\n",
    "data = data.drop(drops)\n",
    "\n",
    "print(data)"
   ]
  },
  {
   "cell_type": "markdown",
   "metadata": {},
   "source": [
    "## Generating the Heatmap\n",
    "\n",
    "Now we will use Cartopy to take this formatted data and draw a heatmap."
   ]
  }
 ],
 "metadata": {
  "interpreter": {
   "hash": "aee8b7b246df8f9039afb4144a1f6fd8d2ca17a180786b69acc140d282b71a49"
  },
  "kernelspec": {
   "display_name": "Python 3.9.0 64-bit",
   "language": "python",
   "name": "python3"
  },
  "language_info": {
   "codemirror_mode": {
    "name": "ipython",
    "version": 3
   },
   "file_extension": ".py",
   "mimetype": "text/x-python",
   "name": "python",
   "nbconvert_exporter": "python",
   "pygments_lexer": "ipython3",
   "version": "3.9.0"
  }
 },
 "nbformat": 4,
 "nbformat_minor": 4
}
